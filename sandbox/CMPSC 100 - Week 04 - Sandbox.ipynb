{
 "cells": [
  {
   "cell_type": "markdown",
   "metadata": {
    "deletable": false,
    "editable": false
   },
   "source": [
    "# CMPSC 100: `Week 04` Sandbox\n",
    "\n",
    "---\n",
    "\n",
    "In the computer science world, a \"sandbox\" is almost exactly what it is in the real world: a place to, effectively, \"play.\" \n",
    "\n",
    "## Usage\n",
    "\n",
    "First and foremost, this space is for *you*. \n",
    "\n",
    "Use this notebook to try out code presented in class or do self-guided exploration. Your instructor may reference this notebook and ask that you write some code in it to follow along with in-class exercises or live programming.\n",
    "\n",
    "I also encourage you to use this as a space to take notes as you participate in discussions or practice coding concepts on your own.\n",
    "\n",
    "### Reminders\n",
    "\n",
    "The following key combinations and shortcuts will speed your work in this notebook.\n",
    "\n",
    "#### With cursor in cell\n",
    "\n",
    "| Key(s) | Outcome |\n",
    "|:-|:-|\n",
    "| `Enter` | Adds a new line in the current cell |\n",
    "| `Shift` + `Enter` | Runs the current cell and moves to the first cell below |\n",
    "| `Ctrl` + `Enter` | Runs the current cell; cursor remains in cell |\n",
    "| `Alt` + `Enter` | Runs current cell and inserts new cell below ||\n",
    "\n",
    "#### With cell selected\n",
    "\n",
    "| Key(s) | Outcome |\n",
    "|:-|:-|\n",
    "| `A` | Add cell above current cell |\n",
    "| `B` | Add cell below current cell |\n",
    "| `D` | Delete current cell |\n",
    "| `Shift` + `M` | Merge current cell with below |\n",
    "| `M` | Changes current cell to Markdown format|\n",
    "| `Y` | Changes current cell to code format |\n",
    "\n",
    "\n",
    "## Helpful readings\n",
    "\n",
    "The readings below are meant to serve as references for you as you explore practical use of our course's platforms. As always, however, feel free to reach out to your instructors or post questions in our course [Slack](cmpsc-100-00-fa-2020.slack.com).\n",
    "\n",
    "### Using Jupyter notebooks\n",
    "\n",
    "For questions about using a Jupyter Notebook, our colleagues at Bryn Mawr created a [Jupyter Notebook User's Manual](https://jupyter.brynmawr.edu/services/public/dblank/Jupyter%20Notebook%20Users%20Manual.ipynb) which answers basic and advanced questions about the platform.\n",
    "\n",
    "### Markdown\n",
    "\n",
    "I strongly recommend reading the [Mastering Markdown](https://guides.github.com/features/mastering-markdown/) guide to serve as a Markdown reference."
   ]
  },
  {
   "cell_type": "markdown",
   "metadata": {},
   "source": [
    "## Sandbox"
   ]
  },
  {
   "cell_type": "code",
   "execution_count": 1,
   "metadata": {},
   "outputs": [
    {
     "name": "stdout",
     "output_type": "stream",
     "text": [
      "{'Ulysses': 3, 'Snooze Magoo': 4, 'The Boss': 10, 'Mane Man': 3}\n"
     ]
    }
   ],
   "source": [
    "# 0 Dimension\n",
    "list_cat_names = [\n",
    "    \"Ulysses\", \n",
    "    \"Snooze Magoo\", \n",
    "    \"The Boss\", \n",
    "    \"Mane Man\"\n",
    "    ]\n",
    "\n",
    "# 1 Dimension -- \"associative\" data structures\n",
    "cat_names = {\n",
    "    \"Ulysses\": 3, \n",
    "    \"Snooze Magoo\": 4, \n",
    "    \"The Boss\": 10, \n",
    "    \"Mane Man\": 3\n",
    "}\n",
    "\n",
    "print(cat_names)"
   ]
  },
  {
   "cell_type": "code",
   "execution_count": 2,
   "metadata": {},
   "outputs": [
    {
     "name": "stdout",
     "output_type": "stream",
     "text": [
      "3\n"
     ]
    }
   ],
   "source": [
    "# dictionaries use KEYS not INDEXES\n",
    "print(cat_names[\"Ulysses\"]) # <-- call values by keys"
   ]
  },
  {
   "cell_type": "code",
   "execution_count": 3,
   "metadata": {},
   "outputs": [
    {
     "name": "stdout",
     "output_type": "stream",
     "text": [
      "{'Ulysses': 3, 'Snooze Magoo': 4, 'The Boss': 10, 'Mane Man': 3, 'The Bug': 1}\n"
     ]
    }
   ],
   "source": [
    "cat_names[\"The Bug\"] = 1\n",
    "print(cat_names)"
   ]
  },
  {
   "cell_type": "code",
   "execution_count": 4,
   "metadata": {},
   "outputs": [
    {
     "name": "stdout",
     "output_type": "stream",
     "text": [
      "I called my cat Ulysses 3 times on Saturday.\n",
      "I called my cat Snooze Magoo 4 times on Saturday.\n",
      "I called my cat The Boss 10 times on Saturday.\n",
      "I called my cat Mane Man 3 times on Saturday.\n",
      "I called my cat The Bug 1 times on Saturday.\n"
     ]
    }
   ],
   "source": [
    "for name in cat_names: # <-- name is created at this moment\n",
    "    print(\"I called my cat\",name,cat_names[name],\"times on Saturday.\") # <-- keys are held in name variable"
   ]
  },
  {
   "cell_type": "code",
   "execution_count": 5,
   "metadata": {},
   "outputs": [
    {
     "name": "stdout",
     "output_type": "stream",
     "text": [
      "Ulysses\n",
      "Snooze Magoo\n",
      "The Boss\n",
      "Mane Man\n",
      "Mane Man\n"
     ]
    }
   ],
   "source": [
    "for name in list_cat_names: # _for_ things I can count -- for each element until there are no more\n",
    "    print(name)\n",
    "print(name)"
   ]
  },
  {
   "cell_type": "code",
   "execution_count": 6,
   "metadata": {},
   "outputs": [
    {
     "ename": "SyntaxError",
     "evalue": "invalid syntax (<ipython-input-6-e0bf05af7e30>, line 10)",
     "output_type": "error",
     "traceback": [
      "\u001b[0;36m  File \u001b[0;32m\"<ipython-input-6-e0bf05af7e30>\"\u001b[0;36m, line \u001b[0;32m10\u001b[0m\n\u001b[0;31m    except KeyError: <-- # if it fails because of a KeyError, then it must the first time I've called him this\u001b[0m\n\u001b[0m                     ^\u001b[0m\n\u001b[0;31mSyntaxError\u001b[0m\u001b[0;31m:\u001b[0m invalid syntax\n"
     ]
    }
   ],
   "source": [
    "new_name = None\n",
    "\n",
    "# Track number of I call my cat a name\n",
    "while new_name != \"N\":\n",
    "    new_name = input(\"Enter a cat name to add to ([N]o to quit):\")\n",
    "    if new_name == \"N\":\n",
    "        break\n",
    "    try: # <-- TRY to do the following\n",
    "        cat_names[new_name] += 1\n",
    "    except KeyError: <-- # if it fails because of a KeyError, then it must the first time I've called him this\n",
    "        cat_names[new_name] = 1\n",
    "    \n",
    "    if new_name in cat_names.keys():\n",
    "        cat_names[new_name] += 1\n",
    "    else:\n",
    "        cat_names[new_name] = 1"
   ]
  },
  {
   "cell_type": "code",
   "execution_count": null,
   "metadata": {},
   "outputs": [],
   "source": [
    "print(cat_names)"
   ]
  },
  {
   "cell_type": "code",
   "execution_count": null,
   "metadata": {},
   "outputs": [],
   "source": [
    "letters = 0\n",
    "for name in cat_names:\n",
    "    letters += len(name)\n",
    "print(letters/len(cat_names))"
   ]
  },
  {
   "cell_type": "code",
   "execution_count": 7,
   "metadata": {},
   "outputs": [],
   "source": [
    "crate = {\n",
    "    \"apples\": {\n",
    "        \"count\": 2,\n",
    "        \"cost\": .99\n",
    "    },\n",
    "    \"oranges\": {\n",
    "        \"count\": 1,\n",
    "        \"cost\": .89\n",
    "    },\n",
    "    \"bananas\": {\n",
    "        \"count\": 3,\n",
    "        \"cost\": 1.01\n",
    "    },\n",
    "    \"tomatoes\": { # I stand by my convictions\n",
    "        \"count\": 5,\n",
    "        \"cost\": .79\n",
    "    },\n",
    "}"
   ]
  },
  {
   "cell_type": "code",
   "execution_count": 12,
   "metadata": {},
   "outputs": [],
   "source": [
    "inventory = 0\n",
    "for fruit in crate:\n",
    "    inventory += crate[fruit][\"cost\"] * crate[fruit][\"count\"]"
   ]
  },
  {
   "cell_type": "code",
   "execution_count": 13,
   "metadata": {},
   "outputs": [
    {
     "name": "stdout",
     "output_type": "stream",
     "text": [
      "9.850000000000001\n"
     ]
    }
   ],
   "source": [
    "print(inventory)"
   ]
  },
  {
   "cell_type": "code",
   "execution_count": null,
   "metadata": {},
   "outputs": [],
   "source": []
  }
 ],
 "metadata": {
  "celltoolbar": "Raw Cell Format",
  "kernelspec": {
   "display_name": "Python 3",
   "language": "python",
   "name": "python3"
  },
  "language_info": {
   "codemirror_mode": {
    "name": "ipython",
    "version": 3
   },
   "file_extension": ".py",
   "mimetype": "text/x-python",
   "name": "python",
   "nbconvert_exporter": "python",
   "pygments_lexer": "ipython3",
   "version": "3.8.2"
  }
 },
 "nbformat": 4,
 "nbformat_minor": 4
}
